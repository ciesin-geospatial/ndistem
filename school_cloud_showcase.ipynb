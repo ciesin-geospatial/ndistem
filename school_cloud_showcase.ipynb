{
 "cells": [
  {
   "attachments": {},
   "cell_type": "markdown",
   "metadata": {},
   "source": [
    "# <span style=\"color: #83a754;\">**NDiSTEM Conference**</span>\n",
    "### 2024 October 31, 2024\n",
    "Script by George Verghese and Juan F. Martinez, CIESIN and SEDAC. Intro and code comments written by ChatGPT with edits by Juan F. Martinez. \n",
    "\n",
    "## Unleashing the Power of AI in Open Science: Empowering the Next Generation of STEM Innovators\n",
    "### This is a demo of the [Science Core Heuristics for Open Science Outcomes in Learning (SCHOOL)](https://ciesin-geospatial.github.io/TOPSTSCHOOL), part of the NASA Transform to Open Science (TOPS) Training initiative. \n",
    "\n",
    "<img src=\"https://earthdata.nasa.gov/s3fs-public/styles/hds_hero_quarter/public/2024-10/sedac-grdi-hero.jpg?VersionId=XZzdUc9_u5RfsVBHe55Oy5TKz_neGJWH&itok=dqW--s1R\" alt=\"A map showing spatial data with colors.\" width=\"500\"/>\n",
    "<br>(Image credit: NASA SEDAC)\n",
    "\n",
    "### What is cloud data?\n",
    "- Cloud Data is stored on the internet so you can access it from anywhere.\n",
    "- Annual Global High-Resolution Extreme Heat Estimates (GEHE), 1983-2016 cloud data provides temperature data over time.\n",
    "- Native Land Digital API cloud data gives us spatial information about indigenous lands.\n",
    "- An Imagery Layer is like a map layer of images that show Earth’s features and changes, helpful in studying environmental patterns.\n",
    "\n",
    "1. Cloud Data <br>\n",
    "**Cloud data** means that the data isn’t stored on your personal computer or phone, but instead, it’s stored on remote servers (essentially, other powerful computers) that you can access via the internet. Think of it like a virtual storage locker: instead of carrying all your books with you, you keep them in a locker that you can open from anywhere as long as you have a key (in this case, an internet connection). For example, **[NASA’s Earthdata Geographic Information System (EGIS)](https://gis.earthdata.nasa.gov/portal/home/)** is a resource for distributing cloud-native, GIS-ready NASA Earth Science data, services, and resources.\n",
    "\n",
    "2. Annual Global High-Resolution Extreme Heat Estimates (GEHE), 1983-2016<br>\n",
    "**[Annual Global High-Resolution Extreme Heat Estimates (GEHE), 1983-2016](https://earthdata.nasa.gov/data/catalog/sedac-ciesin-sedac-sdei-gehe-1.00)** data set provides global 0.05 degrees (~5 km) gridded annual counts of the number of days where the maximum Wet Bulb Globe Temperature (WBGTmax) exceeded dangerous hot-humid heat thresholds for the period 1983 to 2016. Created by Tuholske, C., P. Peterson, C. Funk, and K. Caylor. Published by **[NASA Socioeconomic Data and Applications Center (SEDAC)](https://earthdata.nasa.gov/centers/sedac-daac)**. Version: 1.00.\n",
    "\n",
    "3. Native Land Digital API <br>\n",
    "**[Native Land Digital API](https://www.arcgis.com/home/item.html?id=e46f229101f3438fbe123374e14f98f4)** is a resource developed to provide access to data on Indigenous territories, languages, and treaties worldwide. This API connects users to a wealth of information about Native lands and cultural heritage, gathered with the goal of increasing awareness and understanding of Indigenous territories and histories. By using the Native Land Digital API, educators, researchers, developers, and community members can easily access accurate maps and information about Indigenous Nations and their traditional territories. This tool allows users to explore how land and borders have been shaped by history, fostering a deeper appreciation for the diversity and resilience of Indigenous communities worldwide.\n",
    "\n"
   ]
  },
  {
   "attachments": {},
   "cell_type": "markdown",
   "metadata": {},
   "source": [
    "# Access cloud data\n",
    "For this demo, we will create an interactive map to preview the **NASA SEDAC Annual Global High-Resolution Extreme Heat Estimates (GEHE), 1983-2016** data set overlaid with the **Indigenous Territories (Native Land Digital)** data set.\n"
   ]
  },
  {
   "cell_type": "code",
   "execution_count": null,
   "metadata": {},
   "outputs": [],
   "source": [
    "# Import the ArcGIS library to interact with GIS resources\n",
    "import arcgis\n",
    "from ipywidgets import *\n",
    "# Import display function from IPython to visually display each content item in a Jupyter Notebook\n",
    "from IPython.display import display\n",
    "\n",
    "# Import the GIS class specifically, allowing connection to ArcGIS Online or an ArcGIS Enterprise portal\n",
    "from arcgis.gis import GIS\n",
    "\n",
    "# Create an instance of the GIS class, which connects to ArcGIS Online as an anonymous user by default\n",
    "gis = GIS()\n"
   ]
  },
  {
   "cell_type": "code",
   "execution_count": null,
   "metadata": {},
   "outputs": [],
   "source": [
    "#Verify compatibility or troubleshoot issues based on the version. \n",
    "arcgis.__version__"
   ]
  },
  {
   "attachments": {},
   "cell_type": "markdown",
   "metadata": {},
   "source": [
    "## Accessing NASA SEDAC GEHE data"
   ]
  },
  {
   "cell_type": "code",
   "execution_count": null,
   "metadata": {},
   "outputs": [],
   "source": [
    "# Search for public GIS content related to \"extreme heat\" with the specified item type \"Feature Layer\"\n",
    "# and limit the results to a maximum of 3 items\n",
    "public_content = gis.content.search(\"annual extreme heat\", item_type=\"Imagery Layer\", max_items=3)\n",
    "\n",
    "\n",
    "\n",
    "# Iterate through each item in the search results and display it\n",
    "for item in public_content:\n",
    "    display(item)"
   ]
  },
  {
   "cell_type": "code",
   "execution_count": null,
   "metadata": {},
   "outputs": [],
   "source": [
    "# Select the first item from the public_content search results\n",
    "heat_item = public_content[1]\n",
    "\n",
    "# Display the selected item in the notebook to view its details and metadata\n",
    "display(heat_item)"
   ]
  },
  {
   "attachments": {},
   "cell_type": "markdown",
   "metadata": {},
   "source": [
    "## Accessing Indigenous Territories data"
   ]
  },
  {
   "cell_type": "code",
   "execution_count": null,
   "metadata": {},
   "outputs": [],
   "source": [
    "# Search for public GIS content related to \"indigenous\" with the specified item type \"Feature Layer\"\n",
    "# and limit the results to a maximum of 3 items\n",
    "public_content = gis.content.search(\"indigenous\", item_type=\"Feature Layer\", max_items=3)\n",
    "\n",
    "# Import display function from IPython to visually display each content item in a Jupyter Notebook\n",
    "from IPython.display import display\n",
    "\n",
    "# Iterate through each item in the search results and display it\n",
    "for item in public_content:\n",
    "    display(item)\n"
   ]
  },
  {
   "cell_type": "code",
   "execution_count": null,
   "metadata": {},
   "outputs": [],
   "source": [
    "# Select the first item from the public_content search results\n",
    "territories_item = public_content[0]\n",
    "\n",
    "# Display the selected item in the notebook to view its details and metadata\n",
    "display(territories_item)\n"
   ]
  },
  {
   "cell_type": "code",
   "execution_count": null,
   "metadata": {},
   "outputs": [],
   "source": [
    "\n",
    "#Create a new map object\n",
    "map1 = gis.map('Arizona') #you can leave this blank\n",
    "\n",
    "#add selected item to map\n",
    "#add opacity to the layer\n",
    "# map1.add_layer(heat_item) #arcgis version 2.2.0\n",
    "# map1.add_layer(territories_item, options={\"opacity\": 0.55}) #arcgis version 2.2.0\n",
    "map1.content.add(heat_item)  # for arcgis version 2.3.0 or later\n",
    "map1.content.add(territories_item, options={\"opacity\": 0.4})  # for arcgis version 2.3.0 or later\n",
    "\n",
    "\n",
    "#add legend to the map\n",
    "# map1.legend = True  #arcgis version 2.2.0\n",
    "map1.legend.enabled = True  # for arcgis version 2.3.0 or later\n",
    "\n",
    "# map1.time_slider = True #arcgis version 2.2.0\n",
    "map1.time_slider.enabled = True  # for arcgis version 2.3.0 or later\n",
    "\n",
    "#extend the map layout to a height of 700 pixels with a padding of 10 pixels.\n",
    "map1.layout=Layout(flex='1 1', padding='10px', height='700px')\n",
    "\n",
    "#Display the map\n",
    "map1"
   ]
  },
  {
   "attachments": {},
   "cell_type": "markdown",
   "metadata": {},
   "source": [
    "#### Congratulations! \n",
    "\n",
    "In this demo you have learned to:\n",
    "- Search arcgis for data layers.\n",
    "- Retreive NASA SEDAC and Indigeous Territories cloud data from the Living Cloud Atlas. \n",
    "- View the data in a dynamic map.\n",
    "\n",
    "Thank you to NASA Office of Diversity and Equal Opportunity (OCSDO), NASA SEDAC, NASA EGIS, iSciences, Baruch College, CIESIN, and Columbia Climate School.  \n",
    "\n"
   ]
  }
 ],
 "metadata": {
  "kernelspec": {
   "display_name": "Python 3 (ipykernel)",
   "language": "python",
   "name": "python3"
  },
  "language_info": {
   "codemirror_mode": {
    "name": "ipython",
    "version": 3
   },
   "file_extension": ".py",
   "mimetype": "text/x-python",
   "name": "python",
   "nbconvert_exporter": "python",
   "pygments_lexer": "ipython3",
   "version": "3.9.18"
  },
  "vscode": {
   "interpreter": {
    "hash": "5bdb19a6c76f64b07500f37cf48bd7b037899be66e09ced825bb222caa0dba34"
   }
  }
 },
 "nbformat": 4,
 "nbformat_minor": 2
}
