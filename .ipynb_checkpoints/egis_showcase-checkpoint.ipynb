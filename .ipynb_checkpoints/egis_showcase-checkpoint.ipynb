{
 "cells": [
  {
   "cell_type": "markdown",
   "metadata": {},
   "source": [
    "# NDiSTEM Conference \n",
    "## 2024 Octpber 31, 2024\n",
    "\n",
    "\n",
    "## Unleashing the Power of AI in Open Science: Empowering the Next Generation of STEM Innovators\n",
    "\n",
    "Script by Juan F Martinez and Geroge Verghese, CIESIN and SEDAC. Intro and code comments written by ChatGPT with edits by Juan F. Martinez. \n",
    "\n",
    "### This is a demo of the [Science Core Heuristics for Open Science Outcomes in Learning (SCHOOL)](https://ciesin-geospatial.github.io/TOPSTSCHOOL), part of the NASA Transform to Open Science (TOPS) Training initiative.\n",
    "\n",
    "This demo uses cloud data from NASA's [Socioeconomic Data and Applications Center (SEDAC)](https://earthdata.nasa.gov/centers/sedac-daac) hosted in NASA’s Earthdata Geographic Information System (EGIS) Enterprise portal.    \n",
    "\n",
    "\n",
    "### What is cloud data?\n",
    "- Cloud Data is stored on the internet so you can access it from anywhere.\n",
    "- NASA EGIS cloud data gives us information about Earth from NASA’s satellites.\n",
    "- An Imagery Layer is like a map layer of images that show Earth’s features and changes, helpful in studying environmental patterns.\n",
    "\n",
    "1. Cloud Data is not stored in your computer or phone, rather, it is stored in remote servers\n",
    "Cloud data means that the data isn’t stored on your personal computer or phone, but instead, it’s stored on remote servers (essentially, other powerful computers) that you can access via the internet. Think of it like a virtual storage locker: instead of carrying all your books with you, you keep them in a locker that you can open from anywhere as long as you have a key (in this case, an internet connection).\n",
    "\n",
    "2. Cloud Data from NASA EGIS\n",
    "**NASA’s EGIS (Earth Science GIS)** is a system where NASA stores data about Earth collected from satellites and other sources. The cloud data from NASA EGIS includes information about things like weather, land use, vegetation, water, and socioeconomic data. Because this data is stored in the cloud, researchers, scientists, and students worldwide can access and study it without having to store massive amounts of data on their personal devices. This data helps us learn about and monitor the Earth, like spotting environmental changes or natural events and learning how humans and the environments interact.\n",
    "\n",
    "3. Imagery Layer\n",
    "An **imagery layer** is like a digital photograph of the Earth's surface taken from space. Satellites capture images of the Earth over time, which are then stored in layers that can be added to maps. Each layer might represent a different type of data, such as land cover (trees, water, cities), temperature, or weather patterns. By looking at these layers together, scientists can study changes and patterns on Earth over time. For example, an imagery layer from NASA might show how glaciers are shrinking or how forests are growing in certain areas."
   ]
  },
  {
   "cell_type": "markdown",
   "metadata": {},
   "source": [
    "# Access EGIS Data from SEDAC\n",
    "For this demo, we will crate an interactive map to preview data from the [Gridded Population of the World, Version 4 (GPWv4): Basic Demographic Characteristics, Revision 11](https://earthdata.nasa.gov/data/catalog/sedac-ciesin-sedac-gpwv4-bdc-r11-4.11). The data consists of estimates of human population by age and sex as counts (number of persons per pixel) and densities (number of persons per square kilometer), consistent with national censuses and population registers, for the year 2010. \n",
    "\n"
   ]
  },
  {
   "cell_type": "code",
   "execution_count": 1,
   "metadata": {},
   "outputs": [],
   "source": [
    "# Import the ArcGIS Python API\n",
    "import arcgis\n",
    "\n",
    "# Import GIS module from ArcGIS API to connect to an ArcGIS Online or Enterprise portal\n",
    "from arcgis.gis import GIS\n",
    "\n",
    "# Import the raster module to work with raster data (such as satellite imagery or digital elevation models)\n",
    "from arcgis.raster import *"
   ]
  },
  {
   "cell_type": "code",
   "execution_count": 3,
   "metadata": {},
   "outputs": [
    {
     "data": {
      "text/plain": [
       "'2.3.0'"
      ]
     },
     "execution_count": 3,
     "metadata": {},
     "output_type": "execute_result"
    }
   ],
   "source": [
    "#Verify compatibility or troubleshoot issues based on the version. \n",
    "arcgis.__version__"
   ]
  },
  {
   "cell_type": "code",
   "execution_count": 2,
   "metadata": {},
   "outputs": [],
   "source": [
    "# Define the URL for the NASA Earthdata GIS portal\n",
    "# This is where you’ll connect to access GIS data provided by NASA\n",
    "portal_url = 'https://gis.earthdata.nasa.gov/portal'\n",
    "\n",
    "# Establish a connection to the GIS portal using the specified URL\n",
    "# The GIS function from the ArcGIS API allows you to authenticate and interact with the portal\n",
    "gis = GIS(portal_url)"
   ]
  },
  {
   "cell_type": "code",
   "execution_count": 3,
   "metadata": {},
   "outputs": [
    {
     "data": {
      "text/plain": [
       "[<Item title:\"GPW Version 4 Population Density (Adjusted to UN Country Totals)\" type:Imagery Layer owner:NASA_Earthdata>,\n",
       " <Item title:\"GPW Version 4 Population Count (Adjusted to UN Country Totals)\" type:Imagery Layer owner:NASA_Earthdata>,\n",
       " <Item title:\"GPW  Version 4 Basic Demographic Characteristics (Adjusted to UN Country Totals)\" type:Imagery Layer owner:NASA_Earthdata>]"
      ]
     },
     "execution_count": 3,
     "metadata": {},
     "output_type": "execute_result"
    }
   ],
   "source": [
    "# Search the GIS portal for content with the title \"GPW\" (Gridded Population of the World)\n",
    "# The query parameter filters results based on the title, and item_type specifies the type of content (Imagery Layer)\n",
    "search_results = gis.content.search(query=\"title: 'GPW'\", item_type=\"Imagery Layer\")\n",
    "\n",
    "# Display the search results\n",
    "# This will show a list of items matching the search criteria, such as available imagery layers related to GPW\n",
    "search_results"
   ]
  },
  {
   "cell_type": "code",
   "execution_count": 7,
   "metadata": {},
   "outputs": [
    {
     "data": {
      "text/plain": [
       "'39815947b1a24236a8311b47895a38b5'"
      ]
     },
     "execution_count": 7,
     "metadata": {},
     "output_type": "execute_result"
    }
   ],
   "source": [
    "# Select the first item from the search results list\n",
    "# This assumes the desired item is the first one returned in the search\n",
    "item = search_results[2]\n",
    "\n",
    "# Retrieve the unique ID of the selected item\n",
    "# This ID is used to fetch the item directly from the GIS portal\n",
    "item_id = item.id\n",
    "item_id  # Display the item ID to confirm it"
   ]
  },
  {
   "cell_type": "code",
   "execution_count": 8,
   "metadata": {},
   "outputs": [],
   "source": [
    "# Use the item ID to retrieve the full item details from the GIS portal\n",
    "# This will load the item as an imagery layer object that can be added to a map\n",
    "item_layer = gis.content.get(item_id)"
   ]
  },
  {
   "cell_type": "code",
   "execution_count": null,
   "metadata": {},
   "outputs": [],
   "source": [
    "# Create a new map view in the GIS environment\n",
    "# This provides an interactive map that can display layers and other spatial data\n",
    "map_view = gis.map()\n",
    "\n",
    "# Add the retrieved imagery layer to the map view\n",
    "# This overlays the GPW (Gridded Population of the World) imagery on the map\n",
    "map_view.add_layer(item_layer)\n",
    "\n",
    "# Enable the time slider to view temporal data if available in the layer\n",
    "# The time slider allows for exploring data changes over time if the layer supports it\n",
    "map_view.time_slider = True\n",
    "\n",
    "# Display the map view with the added layer and time slider functionality\n",
    "map_view"
   ]
  },
  {
   "cell_type": "markdown",
   "metadata": {},
   "source": [
    "#### Congratulations! \n",
    "\n",
    "In this demo you have learned to:\n",
    "- Access the NASA EGIS portal.\n",
    "- Search EGIS for data layers.\n",
    "- Retreive cloud data from NASA EGIS. \n",
    "- View the data in a dynamic map.\n",
    "\n",
    "Thank you to NASA Office of Diversity and Equal Opportunity (OCSDO), NASA SEDAC, NASA EGIS, iSciences, Baruch College, CIESIN, and Columbia Climate School.  \n",
    "\n"
   ]
  }
 ],
 "metadata": {
  "kernelspec": {
   "display_name": "Python 3 (ipykernel)",
   "language": "python",
   "name": "python3"
  },
  "language_info": {
   "codemirror_mode": {
    "name": "ipython",
    "version": 3
   },
   "file_extension": ".py",
   "mimetype": "text/x-python",
   "name": "python",
   "nbconvert_exporter": "python",
   "pygments_lexer": "ipython3",
   "version": "3.9.18"
  },
  "vscode": {
   "interpreter": {
    "hash": "5bdb19a6c76f64b07500f37cf48bd7b037899be66e09ced825bb222caa0dba34"
   }
  }
 },
 "nbformat": 4,
 "nbformat_minor": 2
}
