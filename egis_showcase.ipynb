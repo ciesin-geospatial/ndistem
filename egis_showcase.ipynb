{
 "cells": [
  {
   "attachments": {},
   "cell_type": "markdown",
   "metadata": {},
   "source": [
    "# NDiSTEM Conference \n",
    "## 2024 Octpber 31, 2024\n",
    "\n",
    "\n",
    "## Unleashing the Power of AI in Open Science: Empowering the Next Generation of STEM Innovators\n",
    "\n",
    "Script by Juan F Martinez and Geroge Verghese, CIESIN and SEDAC. Intro and code comments written by ChatGPT with edits by Juan F. Martinez. \n",
    "\n",
    "### This is a demo of the [Science Core Heuristics for Open Science Outcomes in Learning (SCHOOL)](https://ciesin-geospatial.github.io/TOPSTSCHOOL), part of the NASA Transform to Open Science (TOPS) Training initiative. \n",
    "\n",
    "\n",
    "### What is cloud data?\n",
    "- Cloud Data is stored on the internet so you can access it from anywhere.\n",
    "- Native Land Digital API cloud data gives us spatial information about indigenous lands.\n",
    "- An Imagery Layer is like a map layer of images that show Earth’s features and changes, helpful in studying environmental patterns.\n",
    "\n",
    "1. Cloud Data is not stored in your computer or phone, rather, it is stored in remote servers\n",
    "Cloud data means that the data isn’t stored on your personal computer or phone, but instead, it’s stored on remote servers (essentially, other powerful computers) that you can access via the internet. Think of it like a virtual storage locker: instead of carrying all your books with you, you keep them in a locker that you can open from anywhere as long as you have a key (in this case, an internet connection).\n",
    "\n",
    "2. Native Land Digital API\n",
    "**Native Land Digital API** is a resource developed to provide access to data on Indigenous territories, languages, and treaties worldwide. This API connects users to a wealth of information about Native lands and cultural heritage, gathered with the goal of increasing awareness and understanding of Indigenous territories and histories. By using the Native Land Digital API, educators, researchers, developers, and community members can easily access accurate maps and information about Indigenous Nations and their traditional territories. This tool allows users to explore how land and borders have been shaped by history, fostering a deeper appreciation for the diversity and resilience of Indigenous communities worldwide.\n",
    "\n",
    "3. Imagery Layer\n",
    "An **imagery layer** is like a digital photograph of the Earth's surface taken from space. Satellites capture images of the Earth over time, which are then stored in layers that can be added to maps. Each layer might represent a different type of data, such as land cover (trees, water, cities), temperature, or weather patterns. By looking at these layers together, scientists can study changes and patterns on Earth over time. For example, an imagery layer from NASA might show how glaciers are shrinking or how forests are growing in certain areas."
   ]
  },
  {
   "attachments": {},
   "cell_type": "markdown",
   "metadata": {},
   "source": [
    "# Access cloud data\n",
    "For this demo, we will crate an interactive map to preview the [Indigenous Territories (Native Land Digital)](https://www.arcgis.com/home/item.html?id=e46f229101f3438fbe123374e14f98f4) dataset, which is a layer of Indigenous land territories across the globe, provided by the Native Lands Digital API. This layer is updated weekly.\n"
   ]
  },
  {
   "cell_type": "code",
   "execution_count": 107,
   "metadata": {},
   "outputs": [],
   "source": [
    "# Import the ArcGIS library to interact with GIS resources\n",
    "import arcgis\n",
    "\n",
    "# Import the GIS class specifically, allowing connection to ArcGIS Online or an ArcGIS Enterprise portal\n",
    "from arcgis.gis import GIS\n",
    "\n",
    "# Create an instance of the GIS class, which connects to ArcGIS Online as an anonymous user by default\n",
    "gis = GIS()\n"
   ]
  },
  {
   "cell_type": "code",
   "execution_count": 111,
   "metadata": {},
   "outputs": [
    {
     "data": {
      "text/plain": [
       "'2.2.0'"
      ]
     },
     "execution_count": 111,
     "metadata": {},
     "output_type": "execute_result"
    }
   ],
   "source": [
    "#Verify compatibility or troubleshoot issues based on the version. \n",
    "arcgis.__version__"
   ]
  },
  {
   "cell_type": "code",
   "execution_count": 112,
   "metadata": {},
   "outputs": [
    {
     "data": {
      "text/html": [
       "<div class=\"item_container\" style=\"height: auto; overflow: hidden; border: 1px solid #cfcfcf; border-radius: 2px; background: #f6fafa; line-height: 1.21429em; padding: 10px;\">\n",
       "                    <div class=\"item_left\" style=\"width: 210px; float: left;\">\n",
       "                       <a href='https://www.arcgis.com/home/item.html?id=e46f229101f3438fbe123374e14f98f4' target='_blank'>\n",
       "                        <img src='https://www.arcgis.com/sharing/rest//content/items/e46f229101f3438fbe123374e14f98f4/info/thumbnail/thumbnail1671202072178.png' class=\"itemThumbnail\">\n",
       "                       </a>\n",
       "                    </div>\n",
       "\n",
       "                    <div class=\"item_right\"     style=\"float: none; width: auto; overflow: hidden;\">\n",
       "                        <a href='https://www.arcgis.com/home/item.html?id=e46f229101f3438fbe123374e14f98f4' target='_blank'><b>Indigenous Territories (Native Land Digital)</b>\n",
       "                        </a>\n",
       "                        <br/>A layer of Indigenous land territories across the globe, provided by the Native Lands Digital API. This layer is updated weekly.<img src='https://www.arcgis.com/home/js/jsapi/esri/css/images/item_type_icons/featureshosted16.png' style=\"vertical-align:middle;\" width=16 height=16>Feature Layer Collection by rkemper.nativeland\n",
       "                        <br/>Last Modified: October 01, 2023\n",
       "                        <br/>16 comments, 366878 views\n",
       "                    </div>\n",
       "                </div>\n",
       "                "
      ],
      "text/plain": [
       "<Item title:\"Indigenous Territories (Native Land Digital)\" type:Feature Layer Collection owner:rkemper.nativeland>"
      ]
     },
     "metadata": {},
     "output_type": "display_data"
    },
    {
     "data": {
      "text/html": [
       "<div class=\"item_container\" style=\"height: auto; overflow: hidden; border: 1px solid #cfcfcf; border-radius: 2px; background: #f6fafa; line-height: 1.21429em; padding: 10px;\">\n",
       "                    <div class=\"item_left\" style=\"width: 210px; float: left;\">\n",
       "                       <a href='https://www.arcgis.com/home/item.html?id=52c7896cdfab4660a595e6f6a7ef0e4d' target='_blank'>\n",
       "                        <img src='https://www.arcgis.com/sharing/rest//content/items/52c7896cdfab4660a595e6f6a7ef0e4d/info/thumbnail/thumbnail.png' class=\"itemThumbnail\">\n",
       "                       </a>\n",
       "                    </div>\n",
       "\n",
       "                    <div class=\"item_right\"     style=\"float: none; width: auto; overflow: hidden;\">\n",
       "                        <a href='https://www.arcgis.com/home/item.html?id=52c7896cdfab4660a595e6f6a7ef0e4d' target='_blank'><b>Wilderness Areas in the United States</b>\n",
       "                        </a>\n",
       "                        <br/>The National Wilderness Preservation System includes wilderness areas in the United States designated by the Wilderness Act of 1964 and all subsequent wilderness laws. Today, more than 800 wilderness areas exist in 44 states and Puerto Rico encompassing more than 111 million acres. Through designation as wilderness, public lands that are federally owned by the Bureau of Land Management, Fish and Wildlife Service, Forest Service, or National Park Service are given the highest level of protection available.<img src='https://www.arcgis.com/home/js/jsapi/esri/css/images/item_type_icons/featureshosted16.png' style=\"vertical-align:middle;\" width=16 height=16>Feature Layer Collection by wildernesswebmaster99\n",
       "                        <br/>Last Modified: December 04, 2023\n",
       "                        <br/>0 comments, 2914514 views\n",
       "                    </div>\n",
       "                </div>\n",
       "                "
      ],
      "text/plain": [
       "<Item title:\"Wilderness Areas in the United States\" type:Feature Layer Collection owner:wildernesswebmaster99>"
      ]
     },
     "metadata": {},
     "output_type": "display_data"
    },
    {
     "data": {
      "text/html": [
       "<div class=\"item_container\" style=\"height: auto; overflow: hidden; border: 1px solid #cfcfcf; border-radius: 2px; background: #f6fafa; line-height: 1.21429em; padding: 10px;\">\n",
       "                    <div class=\"item_left\" style=\"width: 210px; float: left;\">\n",
       "                       <a href='https://www.arcgis.com/home/item.html?id=8a5448917b174e34ba3023523a3bb015' target='_blank'>\n",
       "                        <img src='https://www.arcgis.com/sharing/rest//content/items/8a5448917b174e34ba3023523a3bb015/info/thumbnail/thumbnail1703786341725.png' class=\"itemThumbnail\">\n",
       "                       </a>\n",
       "                    </div>\n",
       "\n",
       "                    <div class=\"item_right\"     style=\"float: none; width: auto; overflow: hidden;\">\n",
       "                        <a href='https://www.arcgis.com/home/item.html?id=8a5448917b174e34ba3023523a3bb015' target='_blank'><b>North America Marine Protected Areas 2021_OECMs</b>\n",
       "                        </a>\n",
       "                        <br/>This layer shows a subset of the 2021 CEC Protected Areas of North America map that contains all marine or marine/terrestrial protected areas that do not meet any of the categories defined by the International Union for Conservation of Nature and are classified as Other Effective Conservation Measurements (OECMs) or have not been assigned to any category by its managing agency. This map integrates the most recent databases available as of August 2021 in Canada, the United States and Mexico.<img src='https://www.arcgis.com/home/js/jsapi/esri/css/images/item_type_icons/featureshosted16.png' style=\"vertical-align:middle;\" width=16 height=16>Feature Layer Collection by CECAtlas\n",
       "                        <br/>Last Modified: December 28, 2023\n",
       "                        <br/>0 comments, 568 views\n",
       "                    </div>\n",
       "                </div>\n",
       "                "
      ],
      "text/plain": [
       "<Item title:\"North America Marine Protected Areas 2021_OECMs\" type:Feature Layer Collection owner:CECAtlas>"
      ]
     },
     "metadata": {},
     "output_type": "display_data"
    }
   ],
   "source": [
    "# Search for public GIS content related to \"indigenous\" with the specified item type \"Feature Layer\"\n",
    "# and limit the results to a maximum of 3 items\n",
    "public_content = gis.content.search(\"indigenous\", item_type=\"Feature Layer\", max_items=3)\n",
    "\n",
    "# Import display function from IPython to visually display each content item in a Jupyter Notebook\n",
    "from IPython.display import display\n",
    "\n",
    "# Iterate through each item in the search results and display it\n",
    "for item in public_content:\n",
    "    display(item)\n"
   ]
  },
  {
   "cell_type": "code",
   "execution_count": 113,
   "metadata": {},
   "outputs": [
    {
     "data": {
      "text/html": [
       "<div class=\"item_container\" style=\"height: auto; overflow: hidden; border: 1px solid #cfcfcf; border-radius: 2px; background: #f6fafa; line-height: 1.21429em; padding: 10px;\">\n",
       "                    <div class=\"item_left\" style=\"width: 210px; float: left;\">\n",
       "                       <a href='https://www.arcgis.com/home/item.html?id=e46f229101f3438fbe123374e14f98f4' target='_blank'>\n",
       "                        <img src='https://www.arcgis.com/sharing/rest//content/items/e46f229101f3438fbe123374e14f98f4/info/thumbnail/thumbnail1671202072178.png' class=\"itemThumbnail\">\n",
       "                       </a>\n",
       "                    </div>\n",
       "\n",
       "                    <div class=\"item_right\"     style=\"float: none; width: auto; overflow: hidden;\">\n",
       "                        <a href='https://www.arcgis.com/home/item.html?id=e46f229101f3438fbe123374e14f98f4' target='_blank'><b>Indigenous Territories (Native Land Digital)</b>\n",
       "                        </a>\n",
       "                        <br/>A layer of Indigenous land territories across the globe, provided by the Native Lands Digital API. This layer is updated weekly.<img src='https://www.arcgis.com/home/js/jsapi/esri/css/images/item_type_icons/featureshosted16.png' style=\"vertical-align:middle;\" width=16 height=16>Feature Layer Collection by rkemper.nativeland\n",
       "                        <br/>Last Modified: October 01, 2023\n",
       "                        <br/>16 comments, 366878 views\n",
       "                    </div>\n",
       "                </div>\n",
       "                "
      ],
      "text/plain": [
       "<Item title:\"Indigenous Territories (Native Land Digital)\" type:Feature Layer Collection owner:rkemper.nativeland>"
      ]
     },
     "metadata": {},
     "output_type": "display_data"
    }
   ],
   "source": [
    "# Select the first item from the public_content search results\n",
    "example_item = public_content[0]\n",
    "\n",
    "# Display the selected item in the notebook to view its details and metadata\n",
    "display(example_item)\n"
   ]
  },
  {
   "cell_type": "code",
   "execution_count": 114,
   "metadata": {},
   "outputs": [
    {
     "data": {
      "application/vnd.jupyter.widget-view+json": {
       "model_id": "c9a42b3a8d30494fa74953135acce223",
       "version_major": 2,
       "version_minor": 0
      },
      "text/plain": [
       "MapView(layout=Layout(height='400px', width='100%'), legend=True)"
      ]
     },
     "metadata": {},
     "output_type": "display_data"
    },
    {
     "data": {
      "text/html": [
       "<div class=\"map-static-img-preview-86e1a1a2-e44e-404b-ac1c-3324fbfc9561\"><img src=\"\"></img></div>"
      ],
      "text/plain": [
       "<IPython.core.display.HTML object>"
      ]
     },
     "metadata": {},
     "output_type": "display_data"
    },
    {
     "data": {
      "text/html": [
       "<div class=\"map-html-embed-preview-86e1a1a2-e44e-404b-ac1c-3324fbfc9561\"></div>"
      ],
      "text/plain": [
       "<IPython.core.display.HTML object>"
      ]
     },
     "metadata": {},
     "output_type": "display_data"
    }
   ],
   "source": [
    "#Create a new map object\n",
    "map1 = gis.map()\n",
    "#add selected item to map\n",
    "map1.add_layer(example_item)\n",
    "#add legend to the map\n",
    "map1.legend = True\n",
    "# map1.content.add(example_item)  # for arcgis version 2.3.0 or later\n",
    "#Display the map\n",
    "map1"
   ]
  },
  {
   "attachments": {},
   "cell_type": "markdown",
   "metadata": {},
   "source": [
    "#### Congratulations! \n",
    "\n",
    "In this demo you have learned to:\n",
    "- Search arcgis for data layers.\n",
    "- Retreive cloud data from the Living Cloud Atlas. \n",
    "- View the data in a dynamic map.\n",
    "\n",
    "Thank you to NASA Office of Diversity and Equal Opportunity (OCSDO), NASA SEDAC, iSciences, Baruch College, CIESIN, and Columbia Climate School.  \n",
    "\n"
   ]
  }
 ],
 "metadata": {
  "kernelspec": {
   "display_name": "Python 3 (ipykernel)",
   "language": "python",
   "name": "python3"
  },
  "language_info": {
   "codemirror_mode": {
    "name": "ipython",
    "version": 3
   },
   "file_extension": ".py",
   "mimetype": "text/x-python",
   "name": "python",
   "nbconvert_exporter": "python",
   "pygments_lexer": "ipython3",
   "version": "3.9.18"
  },
  "vscode": {
   "interpreter": {
    "hash": "5bdb19a6c76f64b07500f37cf48bd7b037899be66e09ced825bb222caa0dba34"
   }
  }
 },
 "nbformat": 4,
 "nbformat_minor": 2
}
